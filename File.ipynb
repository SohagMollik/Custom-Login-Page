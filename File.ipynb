{
 "cells": [
  {
   "cell_type": "code",
   "execution_count": 1,
   "metadata": {},
   "outputs": [],
   "source": [
    "f = open(\"first.txt\", 'w+')"
   ]
  },
  {
   "cell_type": "code",
   "execution_count": 2,
   "metadata": {},
   "outputs": [
    {
     "data": {
      "text/plain": [
       "52"
      ]
     },
     "execution_count": 2,
     "metadata": {},
     "output_type": "execute_result"
    }
   ],
   "source": [
    "f.write('Hello! Dear. Its the first file on Jupyter Notebook')"
   ]
  },
  {
   "cell_type": "code",
   "execution_count": 18,
   "metadata": {},
   "outputs": [
    {
     "name": "stdout",
     "output_type": "stream",
     "text": [
      "Hello! Dear. Its the first file on Jupyter Notebook. Huhu :).\n"
     ]
    }
   ],
   "source": [
    "f = open(\"first.txt\", 'w+')\n",
    "f.write(\"Hello! Dear. Its the first file on Jupyter Notebook. Huhu :).\")\n",
    "f.close()\n",
    "f =open(\"first.txt\", 'r')\n",
    "data = f.read()\n",
    "f.close()\n",
    "print(data)"
   ]
  },
  {
   "cell_type": "code",
   "execution_count": 24,
   "metadata": {},
   "outputs": [
    {
     "name": "stdout",
     "output_type": "stream",
     "text": [
      "['name', 'city']\n",
      "['sasa', 'afeg']\n"
     ]
    }
   ],
   "source": [
    "import csv\n",
    "with open(\"first.csv\", mode='w', newline='') as fs:\n",
    "    writer = csv.writer(fs, delimiter = ',')\n",
    "    writer.writerow(['name', 'city'])\n",
    "    writer.writerow(['sasa', 'afeg'])\n",
    "    \n",
    "\n",
    "# reader = open(\"first.csv\", mode='r', newline='')\n",
    "\n",
    "with open('first.csv', mode='r') as f:\n",
    "    reader = csv.reader(f, delimiter=',')\n",
    "    \n",
    "    for row in reader:\n",
    "        print(row)\n"
   ]
  },
  {
   "cell_type": "markdown",
   "metadata": {},
   "source": [
    "# Creating a user database using csv file in python"
   ]
  },
  {
   "cell_type": "code",
   "execution_count": null,
   "metadata": {},
   "outputs": [],
   "source": [
    "import csv\n",
    "from IPython.display import clear_output\n",
    "\n",
    "def changePassword():\n",
    "    print(\"Enter your correct information for changing password\\n\")\n",
    "    \n",
    "    email = input(\"Enter your E-mail: \")\n",
    "    password = input(\"Enter your password: \")\n",
    "    with open(\"database.csv\", mode = 'r') as f:\n",
    "        writer = csv.writer(f, delimiter = ',')\n",
    "        \n",
    "        if [email, password] in writer:\n",
    "            print(\"Enter you Re-password: \")\n",
    "            password = input()\n",
    "            \n",
    "                \n",
    "    \n",
    "def registration():\n",
    "    with open(\"database.csv\", mode='a') as f:\n",
    "        writer = csv.writer(f, delimiter = ',')\n",
    "    \n",
    "        print(\"Please enter your info \")\n",
    "        email = input(\"Enter your E-mail  \")\n",
    "        if '@' not in email:\n",
    "            print(\"Please enter correct E-mail.\")\n",
    "            email = input(\"Enter your E-mail  \")\n",
    "        \n",
    "        password = input(\"Enter password  \")\n",
    "    \n",
    "        if len(password)<7:\n",
    "            print(\"Password must at least 8 character. Please enter correct one.\\n\")\n",
    "            password = input(\"Enter password  \")\n",
    "        \n",
    "        password2 = input(\"Re-enter password  \")\n",
    "    \n",
    "        if password == password2 and email != writer:\n",
    "            writer.writerow([email, password])\n",
    "            print(\"Congratulation! You are now registered.\")\n",
    "        else:\n",
    "            print(\"Sorry. Password doesn't match. Please try again. \")\n",
    "        \n",
    "        \n",
    "\n",
    "def login():\n",
    "    print(\"To login, Enter your information. \\n\")\n",
    "    \n",
    "    email = input(\"Enter your E-mail address.  \")\n",
    "    if '@' not in email:\n",
    "        print(\"Please enter correct E-mail.\")\n",
    "        email = input(\"Enter your E-mail  \")\n",
    "        \n",
    "    password = input(\"Enter your password.  \")\n",
    "    if len(password) < 7:\n",
    "        print(\"Password must at least 8 character. Please enter correct one.\\n\")\n",
    "        password = input(\"Enter password  \")\n",
    "        \n",
    "    \n",
    "    \n",
    "    \n",
    "    with open(\"database.csv\") as f:\n",
    "        reader = csv.reader(f, delimiter = ',')\n",
    "    \n",
    "        for row in reader:\n",
    "            if row == [email, password]:\n",
    "                print(\"Congratulation! You are log in.\\n\\n\")\n",
    "                return True\n",
    "    print(\"Something went wrong. Try again. \\n\\n\")\n",
    "    return False\n",
    "\n",
    "\n",
    "\n",
    "\n",
    "active = True\n",
    "logged_in = False\n",
    "\n",
    "while active:\n",
    "    if logged_in:\n",
    "        print(\"1. Logout\\n2. Quit\")\n",
    "    else:\n",
    "        print(\"1. login\\n2. Registration\\n3. Quit\")\n",
    "    \n",
    "    \n",
    "    choice = input(\"Enter your choice  \").lower()\n",
    "    \n",
    "    if choice == 'registration' and logged_in == False:\n",
    "        registration()\n",
    "    elif choice == 'login' and logged_in == False:\n",
    "        logged_in = login()\n",
    "    elif choice == 'quit':\n",
    "        active = False\n",
    "        print('Thanks for using our software!\\n\\n')\n",
    "    elif choice == 'logout' and logged_in == True:\n",
    "        logged_in = False\n",
    "        print('You are now logged out.\\n\\n')\n",
    "    else:\n",
    "        print('Sorry, please try again!')"
   ]
  },
  {
   "cell_type": "code",
   "execution_count": null,
   "metadata": {},
   "outputs": [],
   "source": []
  },
  {
   "cell_type": "code",
   "execution_count": null,
   "metadata": {},
   "outputs": [],
   "source": []
  }
 ],
 "metadata": {
  "kernelspec": {
   "display_name": "Python 3",
   "language": "python",
   "name": "python3"
  },
  "language_info": {
   "codemirror_mode": {
    "name": "ipython",
    "version": 3
   },
   "file_extension": ".py",
   "mimetype": "text/x-python",
   "name": "python",
   "nbconvert_exporter": "python",
   "pygments_lexer": "ipython3",
   "version": "3.7.6"
  }
 },
 "nbformat": 4,
 "nbformat_minor": 4
}
